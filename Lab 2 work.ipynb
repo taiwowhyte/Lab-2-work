{
 "cells": [
  {
   "cell_type": "markdown",
   "metadata": {},
   "source": [
    "import pandas as pd\n",
    "import numpy as np\n",
    "import matplotlib as plt\n",
    "%matplotlib inline\n",
    "\n",
    "cities_cvs_file = pd.read_csv('./cities.csv')\n",
    "\n",
    "cities_cvs_file.isnull().sum()"
   ]
  },
  {
   "cell_type": "code",
   "execution_count": 2,
   "metadata": {},
   "outputs": [
    {
     "name": "stdout",
     "output_type": "stream",
     "text": [
      "Requirement already satisfied: geocoder in c:\\users\\44793\\anaconda3\\lib\\site-packages (1.38.1)\n",
      "Requirement already satisfied: click in c:\\users\\44793\\anaconda3\\lib\\site-packages (from geocoder) (7.1.2)\n",
      "Requirement already satisfied: six in c:\\users\\44793\\anaconda3\\lib\\site-packages (from geocoder) (1.15.0)\n",
      "Requirement already satisfied: requests in c:\\users\\44793\\anaconda3\\lib\\site-packages (from geocoder) (2.24.0)\n",
      "Requirement already satisfied: future in c:\\users\\44793\\anaconda3\\lib\\site-packages (from geocoder) (0.18.2)\n",
      "Requirement already satisfied: ratelim in c:\\users\\44793\\anaconda3\\lib\\site-packages (from geocoder) (0.1.6)\n",
      "Requirement already satisfied: certifi>=2017.4.17 in c:\\users\\44793\\anaconda3\\lib\\site-packages (from requests->geocoder) (2020.6.20)\n",
      "Requirement already satisfied: chardet<4,>=3.0.2 in c:\\users\\44793\\anaconda3\\lib\\site-packages (from requests->geocoder) (3.0.4)\n",
      "Requirement already satisfied: idna<3,>=2.5 in c:\\users\\44793\\anaconda3\\lib\\site-packages (from requests->geocoder) (2.10)\n",
      "Requirement already satisfied: urllib3!=1.25.0,!=1.25.1,<1.26,>=1.21.1 in c:\\users\\44793\\anaconda3\\lib\\site-packages (from requests->geocoder) (1.25.11)\n",
      "Requirement already satisfied: decorator in c:\\users\\44793\\anaconda3\\lib\\site-packages (from ratelim->geocoder) (4.4.2)\n",
      "Note: you may need to restart the kernel to use updated packages.\n"
     ]
    }
   ],
   "source": [
    "%pip install geocoder"
   ]
  },
  {
   "cell_type": "code",
   "execution_count": 66,
   "metadata": {},
   "outputs": [
    {
     "name": "stdout",
     "output_type": "stream",
     "text": [
      "City         0\n",
      "City Code    0\n",
      "Region       0\n",
      "Latitude     0\n",
      "Longitude    0\n",
      "Desc         0\n",
      "dtype: int64\n"
     ]
    }
   ],
   "source": [
    "import pandas as pd\n",
    "#make the cities csv file into a reable dataframe\n",
    "cities_df = pd.read_csv('./cities.csv', encoding='latin1')\n",
    "#looking for where there is a null value and putting the location into a new value\n",
    "cities_rows_no_desc = cities_df[cities_df.isnull().any(axis=1)]\n",
    "#null value found in 1 place in the description column\n",
    "#can use the latitude and longitude to do a reverse geocoder search to find a description, but does not work for\n",
    "#some reason\n",
    "#so will use the city (Yokohama) and the region (Japan) to produce new description\n",
    "new_desc = f\"{cities_rows_no_desc.iloc[0]['City']}, {cities_rows_no_desc.iloc[0]['Region']}\"\n",
    "#new description is placed back into the original dataframe\n",
    "cities_df.iloc[cities_df[cities_df.isnull().any(axis=1)].index[0],5] = new_desc\n",
    "#when printing the dataframe again we can see there are no null values now\n",
    "print(cities_df.isnull().sum())\n",
    "\n",
    "\n",
    "\n"
   ]
  },
  {
   "cell_type": "code",
   "execution_count": 70,
   "metadata": {},
   "outputs": [
    {
     "data": {
      "text/plain": [
       "Manager             0\n",
       "Manager Number      0\n",
       "Path                0\n",
       "Sales Rep Name      0\n",
       "Sales Rep Name1     0\n",
       "Sales Rep Name2     5\n",
       "Sales Rep Name3    25\n",
       "Sales Rep ID        0\n",
       "dtype: int64"
      ]
     },
     "execution_count": 70,
     "metadata": {},
     "output_type": "execute_result"
    }
   ],
   "source": [
    "#searching for number of null data in sales_rep.csv\n",
    "sales_rep_df = pd.read_csv('./sales_rep.csv', encoding='latin1')\n",
    "\n",
    "sales_rep_df.isnull().sum()\n",
    "\n",
    "#null data found in Sales Rep Name 2&3, but data is unimportant so will ignore"
   ]
  },
  {
   "cell_type": "code",
   "execution_count": 77,
   "metadata": {},
   "outputs": [
    {
     "data": {
      "text/plain": [
       "%KEY                      0\n",
       "Cost                      0\n",
       "Customer Number           0\n",
       "Date                      0\n",
       "GrossSales                0\n",
       "Invoice Date              0\n",
       "Invoice Number            0\n",
       "Item Desc                 0\n",
       "Item Number               0\n",
       "Margin                    0\n",
       "Order Number              0\n",
       "Promised Delivery Date    0\n",
       "Sales                     0\n",
       "Sales Qty                 0\n",
       "Sales Rep Number          0\n",
       "dtype: int64"
      ]
     },
     "execution_count": 77,
     "metadata": {},
     "output_type": "execute_result"
    }
   ],
   "source": [
    "#searching for number of null data in sales.csv\n",
    "sales_df = pd.read_csv('./sales.csv', encoding='latin1')\n",
    "\n",
    "sales_df.isnull().sum()\n",
    "#there is no null data in this csv"
   ]
  },
  {
   "cell_type": "code",
   "execution_count": 79,
   "metadata": {},
   "outputs": [
    {
     "data": {
      "text/plain": [
       "Item Number          0\n",
       "Product Group        0\n",
       "Product Line         0\n",
       "Product Sub Group    0\n",
       "Product Type         0\n",
       "dtype: int64"
      ]
     },
     "execution_count": 79,
     "metadata": {},
     "output_type": "execute_result"
    }
   ],
   "source": [
    "#searching for number of null data in item_master.csv\n",
    "item_master_df = pd.read_csv('./item_master.csv', encoding='latin1')\n",
    "\n",
    "item_master_df.isnull().sum()\n",
    "\n",
    "#there is no null data in this csv"
   ]
  },
  {
   "cell_type": "code",
   "execution_count": 80,
   "metadata": {},
   "outputs": [
    {
     "data": {
      "text/plain": [
       "Customer           0\n",
       "Customer Number    0\n",
       "City Code          0\n",
       "dtype: int64"
      ]
     },
     "execution_count": 80,
     "metadata": {},
     "output_type": "execute_result"
    }
   ],
   "source": [
    "#searching for number of null data in customers.csv\n",
    "customers_df = pd.read_csv('./customers.csv', encoding='latin1')\n",
    "\n",
    "customers_df.isnull().sum()\n",
    "#there is no null data in this csv"
   ]
  },
  {
   "cell_type": "code",
   "execution_count": 86,
   "metadata": {},
   "outputs": [
    {
     "name": "stdout",
     "output_type": "stream",
     "text": [
      "                       Customer  Customer Number  City Code      City Region  \\\n",
      "0             A Superior System       10000453.0          1  New York    USA   \n",
      "1    Beech Aircraft Corporation       10003882.0          1  New York    USA   \n",
      "2             Deere and Company       10009863.0          1  New York    USA   \n",
      "3            Gailey Enterprises       10012851.0          1  New York    USA   \n",
      "4    J.A. Bauer Pottery Company       10017852.0          1  New York    USA   \n",
      "..                          ...              ...        ...       ...    ...   \n",
      "680                   LiveWORLD       10019909.0         60    Bolton     UK   \n",
      "681                       Qwest       10022423.0         60    Bolton     UK   \n",
      "682                    Tailwind       10025021.0         60    Bolton     UK   \n",
      "683                  YourFuture       10027053.0         60    Bolton     UK   \n",
      "684                         NaN              NaN         61  Plymouth     UK   \n",
      "\n",
      "      Latitude  Longitude                            Desc  \n",
      "0    40.730599 -73.986581         \"New York City, NY, US\"  \n",
      "1    40.730599 -73.986581         \"New York City, NY, US\"  \n",
      "2    40.730599 -73.986581         \"New York City, NY, US\"  \n",
      "3    40.730599 -73.986581         \"New York City, NY, US\"  \n",
      "4    40.730599 -73.986581         \"New York City, NY, US\"  \n",
      "..         ...        ...                             ...  \n",
      "680  53.577694  -2.428887  \"Bolton, Cumbria, England, GB\"  \n",
      "681  53.577694  -2.428887  \"Bolton, Cumbria, England, GB\"  \n",
      "682  53.577694  -2.428887  \"Bolton, Cumbria, England, GB\"  \n",
      "683  53.577694  -2.428887  \"Bolton, Cumbria, England, GB\"  \n",
      "684  50.371266  -4.142566  \"Plymouth, Devon, England, GB\"  \n",
      "\n",
      "[685 rows x 8 columns]\n"
     ]
    }
   ],
   "source": [
    "#combine the customer dataframe with the cities dataframe via the City Code column\n",
    "combined = pd.merge(customers_df, cities_df, how=\"outer\", left_on='City Code', right_on='City Code')\n",
    "print(combined)"
   ]
  },
  {
   "cell_type": "code",
   "execution_count": 88,
   "metadata": {},
   "outputs": [
    {
     "data": {
      "text/html": [
       "<div>\n",
       "<style scoped>\n",
       "    .dataframe tbody tr th:only-of-type {\n",
       "        vertical-align: middle;\n",
       "    }\n",
       "\n",
       "    .dataframe tbody tr th {\n",
       "        vertical-align: top;\n",
       "    }\n",
       "\n",
       "    .dataframe thead th {\n",
       "        text-align: right;\n",
       "    }\n",
       "</style>\n",
       "<table border=\"1\" class=\"dataframe\">\n",
       "  <thead>\n",
       "    <tr style=\"text-align: right;\">\n",
       "      <th></th>\n",
       "      <th>Customer</th>\n",
       "      <th>Customer Number</th>\n",
       "      <th>City Code</th>\n",
       "      <th>City</th>\n",
       "      <th>Region</th>\n",
       "      <th>Latitude</th>\n",
       "      <th>Longitude</th>\n",
       "      <th>Desc</th>\n",
       "    </tr>\n",
       "  </thead>\n",
       "  <tbody>\n",
       "    <tr>\n",
       "      <th>64</th>\n",
       "      <td>Aaron D. Meyer &amp; Associates</td>\n",
       "      <td>10000472.0</td>\n",
       "      <td>95</td>\n",
       "      <td>Yokohama</td>\n",
       "      <td>Japan</td>\n",
       "      <td>35.455592</td>\n",
       "      <td>139.572196</td>\n",
       "      <td>Yokohama, Japan</td>\n",
       "    </tr>\n",
       "    <tr>\n",
       "      <th>65</th>\n",
       "      <td>Betacorp</td>\n",
       "      <td>10005006.0</td>\n",
       "      <td>95</td>\n",
       "      <td>Yokohama</td>\n",
       "      <td>Japan</td>\n",
       "      <td>35.455592</td>\n",
       "      <td>139.572196</td>\n",
       "      <td>Yokohama, Japan</td>\n",
       "    </tr>\n",
       "    <tr>\n",
       "      <th>66</th>\n",
       "      <td>Dayton Malleable Inc.</td>\n",
       "      <td>10009647.0</td>\n",
       "      <td>95</td>\n",
       "      <td>Yokohama</td>\n",
       "      <td>Japan</td>\n",
       "      <td>35.455592</td>\n",
       "      <td>139.572196</td>\n",
       "      <td>Yokohama, Japan</td>\n",
       "    </tr>\n",
       "    <tr>\n",
       "      <th>67</th>\n",
       "      <td>FIBERWORKS</td>\n",
       "      <td>10011981.0</td>\n",
       "      <td>95</td>\n",
       "      <td>Yokohama</td>\n",
       "      <td>Japan</td>\n",
       "      <td>35.455592</td>\n",
       "      <td>139.572196</td>\n",
       "      <td>Yokohama, Japan</td>\n",
       "    </tr>\n",
       "    <tr>\n",
       "      <th>68</th>\n",
       "      <td>Hetrick Systems</td>\n",
       "      <td>10015793.0</td>\n",
       "      <td>95</td>\n",
       "      <td>Yokohama</td>\n",
       "      <td>Japan</td>\n",
       "      <td>35.455592</td>\n",
       "      <td>139.572196</td>\n",
       "      <td>Yokohama, Japan</td>\n",
       "    </tr>\n",
       "    <tr>\n",
       "      <th>69</th>\n",
       "      <td>Laker Airways</td>\n",
       "      <td>10019678.0</td>\n",
       "      <td>95</td>\n",
       "      <td>Yokohama</td>\n",
       "      <td>Japan</td>\n",
       "      <td>35.455592</td>\n",
       "      <td>139.572196</td>\n",
       "      <td>Yokohama, Japan</td>\n",
       "    </tr>\n",
       "    <tr>\n",
       "      <th>70</th>\n",
       "      <td>Pacific Matics</td>\n",
       "      <td>10021179.0</td>\n",
       "      <td>95</td>\n",
       "      <td>Yokohama</td>\n",
       "      <td>Japan</td>\n",
       "      <td>35.455592</td>\n",
       "      <td>139.572196</td>\n",
       "      <td>Yokohama, Japan</td>\n",
       "    </tr>\n",
       "    <tr>\n",
       "      <th>71</th>\n",
       "      <td>Paperless  Group</td>\n",
       "      <td>10021458.0</td>\n",
       "      <td>95</td>\n",
       "      <td>Yokohama</td>\n",
       "      <td>Japan</td>\n",
       "      <td>35.455592</td>\n",
       "      <td>139.572196</td>\n",
       "      <td>Yokohama, Japan</td>\n",
       "    </tr>\n",
       "    <tr>\n",
       "      <th>72</th>\n",
       "      <td>Sagent</td>\n",
       "      <td>10023513.0</td>\n",
       "      <td>95</td>\n",
       "      <td>Yokohama</td>\n",
       "      <td>Japan</td>\n",
       "      <td>35.455592</td>\n",
       "      <td>139.572196</td>\n",
       "      <td>Yokohama, Japan</td>\n",
       "    </tr>\n",
       "    <tr>\n",
       "      <th>73</th>\n",
       "      <td>SignatureFactory</td>\n",
       "      <td>10024270.0</td>\n",
       "      <td>95</td>\n",
       "      <td>Yokohama</td>\n",
       "      <td>Japan</td>\n",
       "      <td>35.455592</td>\n",
       "      <td>139.572196</td>\n",
       "      <td>Yokohama, Japan</td>\n",
       "    </tr>\n",
       "    <tr>\n",
       "      <th>74</th>\n",
       "      <td>Taos Mountain</td>\n",
       "      <td>10025051.0</td>\n",
       "      <td>95</td>\n",
       "      <td>Yokohama</td>\n",
       "      <td>Japan</td>\n",
       "      <td>35.455592</td>\n",
       "      <td>139.572196</td>\n",
       "      <td>Yokohama, Japan</td>\n",
       "    </tr>\n",
       "    <tr>\n",
       "      <th>75</th>\n",
       "      <td>Uniplex</td>\n",
       "      <td>10025511.0</td>\n",
       "      <td>95</td>\n",
       "      <td>Yokohama</td>\n",
       "      <td>Japan</td>\n",
       "      <td>35.455592</td>\n",
       "      <td>139.572196</td>\n",
       "      <td>Yokohama, Japan</td>\n",
       "    </tr>\n",
       "    <tr>\n",
       "      <th>76</th>\n",
       "      <td>We Find It 4 U</td>\n",
       "      <td>10026355.0</td>\n",
       "      <td>95</td>\n",
       "      <td>Yokohama</td>\n",
       "      <td>Japan</td>\n",
       "      <td>35.455592</td>\n",
       "      <td>139.572196</td>\n",
       "      <td>Yokohama, Japan</td>\n",
       "    </tr>\n",
       "  </tbody>\n",
       "</table>\n",
       "</div>"
      ],
      "text/plain": [
       "                       Customer  Customer Number  City Code      City Region  \\\n",
       "64  Aaron D. Meyer & Associates       10000472.0         95  Yokohama  Japan   \n",
       "65                     Betacorp       10005006.0         95  Yokohama  Japan   \n",
       "66        Dayton Malleable Inc.       10009647.0         95  Yokohama  Japan   \n",
       "67                   FIBERWORKS       10011981.0         95  Yokohama  Japan   \n",
       "68              Hetrick Systems       10015793.0         95  Yokohama  Japan   \n",
       "69                Laker Airways       10019678.0         95  Yokohama  Japan   \n",
       "70               Pacific Matics       10021179.0         95  Yokohama  Japan   \n",
       "71             Paperless  Group       10021458.0         95  Yokohama  Japan   \n",
       "72                       Sagent       10023513.0         95  Yokohama  Japan   \n",
       "73             SignatureFactory       10024270.0         95  Yokohama  Japan   \n",
       "74                Taos Mountain       10025051.0         95  Yokohama  Japan   \n",
       "75                      Uniplex       10025511.0         95  Yokohama  Japan   \n",
       "76               We Find It 4 U       10026355.0         95  Yokohama  Japan   \n",
       "\n",
       "     Latitude   Longitude             Desc  \n",
       "64  35.455592  139.572196  Yokohama, Japan  \n",
       "65  35.455592  139.572196  Yokohama, Japan  \n",
       "66  35.455592  139.572196  Yokohama, Japan  \n",
       "67  35.455592  139.572196  Yokohama, Japan  \n",
       "68  35.455592  139.572196  Yokohama, Japan  \n",
       "69  35.455592  139.572196  Yokohama, Japan  \n",
       "70  35.455592  139.572196  Yokohama, Japan  \n",
       "71  35.455592  139.572196  Yokohama, Japan  \n",
       "72  35.455592  139.572196  Yokohama, Japan  \n",
       "73  35.455592  139.572196  Yokohama, Japan  \n",
       "74  35.455592  139.572196  Yokohama, Japan  \n",
       "75  35.455592  139.572196  Yokohama, Japan  \n",
       "76  35.455592  139.572196  Yokohama, Japan  "
      ]
     },
     "execution_count": 88,
     "metadata": {},
     "output_type": "execute_result"
    }
   ],
   "source": [
    "combined[combined['City Code'] == 95]"
   ]
  },
  {
   "cell_type": "code",
   "execution_count": 97,
   "metadata": {},
   "outputs": [
    {
     "data": {
      "text/plain": [
       "<AxesSubplot:xlabel='Region'>"
      ]
     },
     "execution_count": 97,
     "metadata": {},
     "output_type": "execute_result"
    },
    {
     "data": {
      "image/png": "[encoded data removed]",
      "text/plain": [
       "<Figure size 432x288 with 1 Axes>"
      ]
     },
     "metadata": {
      "needs_background": "light"
     },
     "output_type": "display_data"
    }
   ],
   "source": [
    "import matplotlib.pyplot as plt\n",
    "\n",
    "combined.value_counts(\"Region\").plot(kind=\"bar\")\n",
    "#We can see that from the first graph that USA is the region where most of the orders are from, followed by the UK, Nordic region, Japan, Germany and then Spain.\n",
    "\n"
   ]
  },
  {
   "cell_type": "code",
   "execution_count": 100,
   "metadata": {},
   "outputs": [
    {
     "data": {
      "text/plain": [
       "<AxesSubplot:xlabel='City'>"
      ]
     },
     "execution_count": 100,
     "metadata": {},
     "output_type": "execute_result"
    },
    {
     "data": {
      "image/png": "[encoded data removed]",
      "text/plain": [
       "<Figure size 432x288 with 1 Axes>"
      ]
     },
     "metadata": {
      "needs_background": "light"
     },
     "output_type": "display_data"
    }
   ],
   "source": [
    "US_data=combined[combined['Region'] == \"USA\"]\n",
    "US_data.value_counts(\"City\").plot(kind=\"bar\")\n",
    "\n",
    "#We can see that there are 12 US cities that contain the most amount of orders for US regions, and there average number of orders from each US city is between 7 and 8 orders"
   ]
  },
  {
   "cell_type": "code",
   "execution_count": 101,
   "metadata": {},
   "outputs": [
    {
     "data": {
      "text/plain": [
       "<AxesSubplot:xlabel='City'>"
      ]
     },
     "execution_count": 101,
     "metadata": {},
     "output_type": "execute_result"
    },
    {
     "data": {
      "image/png": "[encoded data removed]",
      "text/plain": [
       "<Figure size 432x288 with 1 Axes>"
      ]
     },
     "metadata": {
      "needs_background": "light"
     },
     "output_type": "display_data"
    }
   ],
   "source": [
    "UK_data=combined[combined['Region'] == \"UK\"]\n",
    "UK_data.value_counts(\"City\").plot(kind=\"bar\")\n",
    "#We can see that the average number of orders from each UK cities is around 6 orders per city, with 3 cities (Birmingham, Leeds and London) having more orders than the average city."
   ]
  },
  {
   "cell_type": "code",
   "execution_count": 102,
   "metadata": {},
   "outputs": [
    {
     "data": {
      "text/plain": [
       "<AxesSubplot:xlabel='City'>"
      ]
     },
     "execution_count": 102,
     "metadata": {},
     "output_type": "execute_result"
    },
    {
     "data": {
      "image/png": "[encoded data removed]",
      "text/plain": [
       "<Figure size 432x288 with 1 Axes>"
      ]
     },
     "metadata": {
      "needs_background": "light"
     },
     "output_type": "display_data"
    }
   ],
   "source": [
    "Japan_data=combined[combined['Region'] == \"Japan\"]\n",
    "Japan_data.value_counts(\"City\").plot(kind=\"bar\")\n",
    "#Out of the UK, US and Japan, we can see that the Japanese have the high average order density for each city, with the resulting graph indicating the average sits above 12 orders per city."
   ]
  },
  {
   "cell_type": "code",
   "execution_count": null,
   "metadata": {},
   "outputs": [],
   "source": []
  }
 ],
 "metadata": {
  "kernelspec": {
   "display_name": "Python 3",
   "language": "python",
   "name": "python3"
  },
  "language_info": {
   "codemirror_mode": {
    "name": "ipython",
    "version": 3
   },
   "file_extension": ".py",
   "mimetype": "text/x-python",
   "name": "python",
   "nbconvert_exporter": "python",
   "pygments_lexer": "ipython3",
   "version": "3.8.5"
  }
 },
 "nbformat": 4,
 "nbformat_minor": 4
}
